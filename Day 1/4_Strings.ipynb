{
 "cells": [
  {
   "cell_type": "markdown",
   "metadata": {},
   "source": [
    "# Strings"
   ]
  },
  {
   "cell_type": "code",
   "execution_count": 2,
   "metadata": {},
   "outputs": [
    {
     "name": "stdout",
     "output_type": "stream",
     "text": [
      "P\n",
      "s\n",
      "\n",
      "Python\n",
      "Python\n",
      "\n",
      "Python for Beginners\n",
      "ython for Beginners\n",
      "\n",
      "Python for Beginners\n"
     ]
    }
   ],
   "source": [
    "course = 'Python for Beginners'\n",
    "#         0123456789           Dimulai dari 0\n",
    "\n",
    "print(course[0])  # Pilih mulai dari huruf array ke 0\n",
    "print(course[-1]) # Pilih dari huruf paling terakhir\n",
    "print('')\n",
    "\n",
    "print(course[0:6]) # Print array 0 sampai 6\n",
    "print(course[:6])  # Print array 0 sampai 6\n",
    "print('')\n",
    "\n",
    "print(course[0:]) # Print semua yang ada di course\n",
    "print(course[1:]) # Print semua yang ada di course mulai dari array ke 1\n",
    "print('')\n",
    "\n",
    "another = course[:]\n",
    "print(another) # Print semua array yang ada di course"
   ]
  },
  {
   "cell_type": "markdown",
   "metadata": {},
   "source": [
    "# QUIZ"
   ]
  },
  {
   "cell_type": "code",
   "execution_count": 4,
   "metadata": {},
   "outputs": [
    {
     "name": "stdout",
     "output_type": "stream",
     "text": [
      "ennife\n"
     ]
    }
   ],
   "source": [
    "# Kira kira output nya apa ?\n",
    "name = 'Jennifer'\n",
    "print(name[1:-1])"
   ]
  },
  {
   "cell_type": "markdown",
   "metadata": {},
   "source": [
    "# String Method"
   ]
  },
  {
   "cell_type": "code",
   "execution_count": 8,
   "metadata": {},
   "outputs": [
    {
     "name": "stdout",
     "output_type": "stream",
     "text": [
      "20\n",
      "\n",
      "Python For Beginners\n",
      "\n",
      "python for beginners\n",
      "PYTHON FOR BEGINNERS\n",
      "\n",
      "0\n",
      "Bython for Beginners\n",
      "\n",
      "True\n",
      "False\n",
      "\n"
     ]
    }
   ],
   "source": [
    "course = 'Python for Beginners'\n",
    "\n",
    "print(len(course)) # Print panjang array nya\n",
    "print('')\n",
    "\n",
    "print(course.title()) # Print (Huruf paling depan dijadikan kapital untuk semua kata)\n",
    "print('')\n",
    "\n",
    "print(course.lower()) # Print (Semua huruf jadi huruf kecil)\n",
    "print(course.upper()) # Print (Semua huruf jadi huruf kapital)\n",
    "print('')\n",
    "\n",
    "print(course.find('P'))         # Print (List array ke berapa yang di cari)\n",
    "print(course.replace('P', 'B')) # Print (cari huruf lalu di ganti)\n",
    "print('')\n",
    "\n",
    "print('Python' in course) # Print (mencari kata di dalam course, jika ada akan menghasilkan True)\n",
    "print('python' in course) # Print (mencari kata di dalam course, jika tidak ada akan menghasilkan False)\n",
    "print('')"
   ]
  },
  {
   "cell_type": "markdown",
   "metadata": {},
   "source": [
    "# String Conversion"
   ]
  },
  {
   "cell_type": "code",
   "execution_count": 1,
   "metadata": {},
   "outputs": [
    {
     "name": "stdout",
     "output_type": "stream",
     "text": [
      "Fern is 20 years old\n"
     ]
    }
   ],
   "source": [
    "name = input('Your name is : ')\n",
    "born_year = input('You were born in : ')\n",
    "age = int(2024) - int(born_year)\n",
    "\n",
    "print(name + ' is ' + str(age) + ' years old')"
   ]
  },
  {
   "cell_type": "markdown",
   "metadata": {},
   "source": [
    "# QUIZ"
   ]
  },
  {
   "cell_type": "code",
   "execution_count": 2,
   "metadata": {},
   "outputs": [
    {
     "name": "stdout",
     "output_type": "stream",
     "text": [
      "Your weight in kg is 28.122704 kg\n"
     ]
    }
   ],
   "source": [
    "# Buatlah konversi input pound menjadi KG\n",
    "\n",
    "\n",
    "# Jawaban\n",
    "weight_pound = input('Your weight in pounds : ')\n",
    "weight_kg = float(weight_pound) * 0.453592\n",
    "print(f'Your weight in kg is {weight_kg} kg')"
   ]
  }
 ],
 "metadata": {
  "kernelspec": {
   "display_name": "base",
   "language": "python",
   "name": "python3"
  },
  "language_info": {
   "codemirror_mode": {
    "name": "ipython",
    "version": 3
   },
   "file_extension": ".py",
   "mimetype": "text/x-python",
   "name": "python",
   "nbconvert_exporter": "python",
   "pygments_lexer": "ipython3",
   "version": "3.12.4"
  }
 },
 "nbformat": 4,
 "nbformat_minor": 2
}

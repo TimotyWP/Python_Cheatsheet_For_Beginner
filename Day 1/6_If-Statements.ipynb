{
 "cells": [
  {
   "cell_type": "markdown",
   "metadata": {},
   "source": [
    "# If Statements"
   ]
  },
  {
   "cell_type": "code",
   "execution_count": 13,
   "metadata": {},
   "outputs": [
    {
     "name": "stdout",
     "output_type": "stream",
     "text": [
      "Enjoy Your Day\n"
     ]
    }
   ],
   "source": [
    "is_hot = False\n",
    "is_cold = False\n",
    "\n",
    "\n",
    "if is_hot:\n",
    "    print(\"It's a hot day.\")\n",
    "    print(\"Drink plenty of water!\")\n",
    "elif is_cold:\n",
    "    print(\"It's a cold day.\")\n",
    "    print(\"Wear warm clothes\")\n",
    "else:\n",
    "    print('Enjoy Your Day')"
   ]
  },
  {
   "cell_type": "markdown",
   "metadata": {},
   "source": [
    "# QUIZ"
   ]
  },
  {
   "cell_type": "code",
   "execution_count": 14,
   "metadata": {},
   "outputs": [],
   "source": [
    "# Harga Makanan 100.000\n",
    "# Kalo member diskon 20%\n",
    "# Kalo Tidak member diskon 10%\n",
    "# Print Hasil Harga yang harus dibayar"
   ]
  },
  {
   "cell_type": "code",
   "execution_count": 16,
   "metadata": {},
   "outputs": [
    {
     "name": "stdout",
     "output_type": "stream",
     "text": [
      "You are not a member\n",
      "You have to pay 90000.0\n"
     ]
    }
   ],
   "source": [
    "is_Member = False\n",
    "price = 100000\n",
    "\n",
    "if is_Member:\n",
    "    price = price * 0.8\n",
    "    print(\"You are a member\")\n",
    "    print(f'You have to pay {price}')\n",
    "\n",
    "else:\n",
    "    price = price * 0.9\n",
    "    print(\"You are not a member\")\n",
    "    print(f'You have to pay {price}')"
   ]
  },
  {
   "cell_type": "markdown",
   "metadata": {},
   "source": [
    "# Logical Operators"
   ]
  },
  {
   "cell_type": "code",
   "execution_count": 21,
   "metadata": {},
   "outputs": [
    {
     "name": "stdout",
     "output_type": "stream",
     "text": [
      "Boleh meminjam duit\n"
     ]
    }
   ],
   "source": [
    "# AND : 2 kondisi harus True\n",
    "\n",
    "# Jika orang punya gaji tinggi DAN member = boleh pinjem duit\n",
    "gaji_Tinggi = True\n",
    "is_Member = True\n",
    "\n",
    "if gaji_Tinggi and is_Member:\n",
    "    print(\"Boleh meminjam duit\")\n",
    "\n",
    "else:\n",
    "    (\"Tidak Boleh\")"
   ]
  },
  {
   "cell_type": "code",
   "execution_count": 25,
   "metadata": {},
   "outputs": [
    {
     "name": "stdout",
     "output_type": "stream",
     "text": [
      "Tidak Boleh\n"
     ]
    }
   ],
   "source": [
    "# OR : Setidaknya 1 Kondisi True\n",
    "\n",
    "# Jika orang punya gaji tinggi ATAU member = boleh pinjem duit\n",
    "gaji_Tinggi = True\n",
    "is_Member = False\n",
    "\n",
    "if gaji_Tinggi or is_Member:\n",
    "    print(\"Boleh meminjam duit\")\n",
    "\n",
    "else:\n",
    "    print(\"Tidak Boleh\")"
   ]
  },
  {
   "cell_type": "code",
   "execution_count": 31,
   "metadata": {},
   "outputs": [
    {
     "name": "stdout",
     "output_type": "stream",
     "text": [
      "Boleh meminjam duit\n"
     ]
    }
   ],
   "source": [
    "# NOT : Setidaknya 1 Kondisi True\n",
    "\n",
    "# Jika orang punya gaji tinggi ATAU member = boleh pinjem duit\n",
    "gaji_Tinggi = True\n",
    "Criminal = False\n",
    "\n",
    "if gaji_Tinggi and not Criminal:\n",
    "    print(\"Boleh meminjam duit\")\n",
    "\n",
    "else:\n",
    "    print(\"Tidak Boleh\")"
   ]
  }
 ],
 "metadata": {
  "kernelspec": {
   "display_name": "base",
   "language": "python",
   "name": "python3"
  },
  "language_info": {
   "name": "python",
   "version": "3.12.4"
  }
 },
 "nbformat": 4,
 "nbformat_minor": 2
}

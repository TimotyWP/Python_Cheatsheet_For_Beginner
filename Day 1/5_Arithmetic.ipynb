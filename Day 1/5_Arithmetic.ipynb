{
 "cells": [
  {
   "cell_type": "markdown",
   "metadata": {},
   "source": [
    "# Arithmetic Operations"
   ]
  },
  {
   "cell_type": "code",
   "execution_count": 7,
   "metadata": {},
   "outputs": [
    {
     "name": "stdout",
     "output_type": "stream",
     "text": [
      "13\n",
      "7\n",
      "\n",
      "3.3333333333333335\n",
      "3\n",
      "\n",
      "1\n",
      "\n",
      "30\n",
      "1000\n"
     ]
    }
   ],
   "source": [
    "print(10 + 3)  # Tambah\n",
    "print(10 - 3)  # Kurang\n",
    "print('')\n",
    "\n",
    "print(10 / 3)  # Hasil nya Float\n",
    "print(10 // 3) # Hasil nya Integer\n",
    "print('')\n",
    "\n",
    "print(10 % 3)  # Modulus (Sisa hasil pembagian)\n",
    "print('')\n",
    "\n",
    "print(10 * 3)  # Kali\n",
    "print(10 ** 3) # Pangkat"
   ]
  },
  {
   "cell_type": "markdown",
   "metadata": {},
   "source": [
    "# Operator"
   ]
  },
  {
   "cell_type": "code",
   "execution_count": 8,
   "metadata": {},
   "outputs": [
    {
     "name": "stdout",
     "output_type": "stream",
     "text": [
      "10\n",
      "\n",
      "20\n"
     ]
    }
   ],
   "source": [
    "x = 0\n",
    "\n",
    "x = x + 10 # Sama-sama menambahkan 10 ke X\n",
    "print(x)\n",
    "\n",
    "print('')\n",
    "\n",
    "x += 10 # Sama-sama menambahkan 10 ke X\n",
    "print(x)"
   ]
  },
  {
   "cell_type": "markdown",
   "metadata": {},
   "source": [
    "# Urutan Aritmatika"
   ]
  },
  {
   "cell_type": "code",
   "execution_count": 5,
   "metadata": {},
   "outputs": [],
   "source": [
    "# Pangkat - > Kali -> Bagi -> Tambah -> Kurang"
   ]
  },
  {
   "cell_type": "markdown",
   "metadata": {},
   "source": [
    "# Math Function"
   ]
  },
  {
   "cell_type": "code",
   "execution_count": 2,
   "metadata": {},
   "outputs": [
    {
     "name": "stdout",
     "output_type": "stream",
     "text": [
      "3\n",
      "2.9\n"
     ]
    }
   ],
   "source": [
    "import math # Untuk mengimport module agar bisa menggunakan operator operator matematika\n",
    "\n",
    "x = 2.9\n",
    "print(round(x)) # Membulatkan angka desimal\n",
    "\n",
    "x = -2.9\n",
    "print(abs(x)) # Menjadikan hasil akhir angka positif"
   ]
  }
 ],
 "metadata": {
  "kernelspec": {
   "display_name": "base",
   "language": "python",
   "name": "python3"
  },
  "language_info": {
   "codemirror_mode": {
    "name": "ipython",
    "version": 3
   },
   "file_extension": ".py",
   "mimetype": "text/x-python",
   "name": "python",
   "nbconvert_exporter": "python",
   "pygments_lexer": "ipython3",
   "version": "3.12.4"
  }
 },
 "nbformat": 4,
 "nbformat_minor": 2
}
